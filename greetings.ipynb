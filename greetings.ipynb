{
 "cells": [
  {
   "cell_type": "raw",
   "id": "e7aba1fc-dbeb-4d40-9f24-5c03255904b3",
   "metadata": {},
   "source": [
    "---\n",
    "title: My notebook\n",
    "description: My first notebook shared on Mercury\n",
    "show-code: False\n",
    "params:\n",
    "    year:\n",
    "        input: slider\n",
    "        label: Select the year\n",
    "        value: 2022\n",
    "        min: 2010\n",
    "        max: 2025\n",
    "    greetings:\n",
    "        input: select\n",
    "        label: Select greetings\n",
    "        value: Cześć\n",
    "        choices: [Cześć, Hello, Hola, Hallo, Salut, Ciao]\n",
    "---"
   ]
  },
  {
   "cell_type": "code",
   "execution_count": 1,
   "id": "b9c34532-ff66-4892-a162-af3606a28187",
   "metadata": {},
   "outputs": [],
   "source": [
    "year = 2022\n",
    "greetings = \"Cześć\""
   ]
  },
  {
   "cell_type": "code",
   "execution_count": 2,
   "id": "9e2eb7dd-0b99-44e5-ba41-8f3f060d1c2c",
   "metadata": {},
   "outputs": [
    {
     "name": "stdout",
     "output_type": "stream",
     "text": [
      "Cześć 2022!\n"
     ]
    }
   ],
   "source": [
    "print(f\"{greetings} {year}!\")"
   ]
  },
  {
   "cell_type": "code",
   "execution_count": null,
   "id": "4ad99860-bf4e-4bac-8445-5db37e8abcc1",
   "metadata": {},
   "outputs": [],
   "source": []
  }
 ],
 "metadata": {
  "kernelspec": {
   "display_name": "venv",
   "language": "python",
   "name": "python3"
  },
  "language_info": {
   "codemirror_mode": {
    "name": "ipython",
    "version": 3
   },
   "file_extension": ".py",
   "mimetype": "text/x-python",
   "name": "python",
   "nbconvert_exporter": "python",
   "pygments_lexer": "ipython3",
   "version": "3.8.10"
  }
 },
 "nbformat": 4,
 "nbformat_minor": 5
}
