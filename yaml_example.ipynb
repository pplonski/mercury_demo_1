{
 "cells": [
  {
   "cell_type": "raw",
   "metadata": {},
   "source": [
    "---\n",
    "title: My notebook\n",
    "author: Piotr\n",
    "description: My first notebook in Mercury\n",
    "params:\n",
    "    my_variable:\n",
    "        label: This is slider label\n",
    "        input: slider\n",
    "        value: 5\n",
    "        min: 0\n",
    "        max: 10\n",
    "    range_variable:\n",
    "        label: This is range label\n",
    "        input: range\n",
    "        value: [3,6]\n",
    "        min: 0\n",
    "        max: 10    \n",
    "    select_variable:\n",
    "        label: This is select label\n",
    "        input: select\n",
    "        value: Cześć\n",
    "        choices: [Cześć, Hi, Hello]\n",
    "        multi: False\n",
    "    checkbox_variable:\n",
    "        label: This is checkbox label\n",
    "        input: checkbox\n",
    "        value: True\n",
    "    numeric_variable:\n",
    "        label: This is numeric label\n",
    "        input: numeric\n",
    "        value: 5.5\n",
    "        min: 0\n",
    "        max: 10\n",
    "        step: 0.1\n",
    "---"
   ]
  },
  {
   "cell_type": "code",
   "execution_count": 1,
   "metadata": {},
   "outputs": [],
   "source": [
    "my_variable = 5\n",
    "range_variable = [3, 6]\n",
    "select_variable = \"Cześć\"\n",
    "checkbox_variable = True\n",
    "numeric_variable = 5.5"
   ]
  },
  {
   "cell_type": "code",
   "execution_count": 2,
   "metadata": {},
   "outputs": [
    {
     "name": "stdout",
     "output_type": "stream",
     "text": [
      "my_variable=5\n",
      "range_variable=[3, 6]\n",
      "select_variable=Cześć\n",
      "checkbox_variable=True\n",
      "numeric_variable=5.5\n"
     ]
    }
   ],
   "source": [
    "print(f\"my_variable={my_variable}\")\n",
    "print(f\"range_variable={range_variable}\")\n",
    "print(f\"select_variable={select_variable}\")\n",
    "print(f\"checkbox_variable={checkbox_variable}\")\n",
    "print(f\"numeric_variable={numeric_variable}\")"
   ]
  },
  {
   "cell_type": "code",
   "execution_count": null,
   "metadata": {},
   "outputs": [],
   "source": []
  }
 ],
 "metadata": {
  "interpreter": {
   "hash": "f742eabd246ae97762c7fa0ff8e73224150e3fc182351317785f561c427460c3"
  },
  "kernelspec": {
   "display_name": "Python 3.10.0 64-bit ('mljar-feedstock': conda)",
   "name": "python3"
  },
  "language_info": {
   "name": "python",
   "version": ""
  }
 },
 "nbformat": 4,
 "nbformat_minor": 5
}