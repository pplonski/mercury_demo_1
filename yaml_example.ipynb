{
 "cells": [
  {
   "cell_type": "raw",
   "id": "6710f8c2-3d75-4f5e-afe4-b3436f0b417c",
   "metadata": {},
   "source": [
    "---\n",
    "title: My notebook\n",
    "author: Piotr\n",
    "description: My first notebook in Mercury\n",
    "params:\n",
    "    my_variable:\n",
    "        label: This is slider label\n",
    "        input: slider\n",
    "        value: 5\n",
    "        min: 0\n",
    "        max: 10\n",
    "    range_variable:\n",
    "        label: This is range label\n",
    "        input: range\n",
    "        value: [3,6]\n",
    "        min: 0\n",
    "        max: 10    \n",
    "    select_variable:\n",
    "        label: This is select label\n",
    "        input: select\n",
    "        value: Cześć\n",
    "        choices: [Cześć, Hi, Hello]\n",
    "        multi: False\n",
    "    multiselect_variable:\n",
    "        label: This is select label\n",
    "        input: select\n",
    "        value: Cześć\n",
    "        choices: [Cześć, Hi, Hello, Ciao]\n",
    "        multi: True    \n",
    "    checkbox_variable:\n",
    "        label: This is checkbox label\n",
    "        input: checkbox\n",
    "        value: True\n",
    "    numeric_variable:\n",
    "        label: This is numeric label\n",
    "        input: numeric\n",
    "        value: 5.5\n",
    "        min: 0\n",
    "        max: 10\n",
    "        step: 0.1\n",
    "---"
   ]
  },
  {
   "cell_type": "code",
   "execution_count": 1,
   "id": "eb06ffd6-7fb4-4aca-ac3d-4d436cf453ac",
   "metadata": {},
   "outputs": [],
   "source": [
    "my_variable = 5\n",
    "range_variable = [3, 6]\n",
    "select_variable = \"Cześć\"\n",
    "checkbox_variable = True\n",
    "numeric_variable = 5.5"
   ]
  },
  {
   "cell_type": "code",
   "execution_count": 2,
   "id": "dc9751c5-88ec-4980-9baf-450fd0b923fc",
   "metadata": {},
   "outputs": [
    {
     "name": "stdout",
     "output_type": "stream",
     "text": [
      "my_variable=5\n",
      "range_variable=[3, 6]\n",
      "select_variable=Cześć\n",
      "checkbox_variable=True\n",
      "numeric_variable=5.5\n"
     ]
    }
   ],
   "source": [
    "print(f\"my_variable={my_variable}\")\n",
    "print(f\"range_variable={range_variable}\")\n",
    "print(f\"select_variable={select_variable}\")\n",
    "print(f\"checkbox_variable={checkbox_variable}\")\n",
    "print(f\"numeric_variable={numeric_variable}\")"
   ]
  },
  {
   "cell_type": "code",
   "execution_count": null,
   "id": "74b8f335-5244-43bc-9267-59e6d941a95d",
   "metadata": {},
   "outputs": [],
   "source": []
  }
 ],
 "metadata": {
  "kernelspec": {
   "display_name": "Python 3 (ipykernel)",
   "language": "python",
   "name": "python3"
  },
  "language_info": {
   "codemirror_mode": {
    "name": "ipython",
    "version": 3
   },
   "file_extension": ".py",
   "mimetype": "text/x-python",
   "name": "python",
   "nbconvert_exporter": "python",
   "pygments_lexer": "ipython3",
   "version": "3.9.5"
  }
 },
 "nbformat": 4,
 "nbformat_minor": 5
}
